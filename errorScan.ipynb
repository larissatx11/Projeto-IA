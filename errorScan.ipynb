{
 "cells": [
  {
   "cell_type": "code",
   "execution_count": 11,
   "metadata": {},
   "outputs": [],
   "source": [
    "import pandas as pd\n",
    "import numpy as np\n",
    "import matplotlib.pyplot as plt\n",
    "import seaborn as sns"
   ]
  },
  {
   "cell_type": "code",
   "execution_count": 2,
   "metadata": {},
   "outputs": [
    {
     "data": {
      "text/plain": [
       "<Axes: title={'center': 'Classes'}, ylabel='count'>"
      ]
     },
     "execution_count": 2,
     "metadata": {},
     "output_type": "execute_result"
    },
    {
     "data": {
      "image/png": "[encoded data removed]",
      "text/plain": [
       "<Figure size 640x480 with 1 Axes>"
      ]
     },
     "metadata": {},
     "output_type": "display_data"
    }
   ],
   "source": [
    "dfErro = pd.read_csv('dataset.csv')\n",
    "dfErro['classe'].value_counts().plot(kind='pie', autopct='%1.1f%%', title='Classes')"
   ]
  },
  {
   "cell_type": "code",
   "execution_count": 3,
   "metadata": {},
   "outputs": [
    {
     "name": "stdout",
     "output_type": "stream",
     "text": [
      "classe\n",
      "1    9261\n",
      "0    7026\n",
      "Name: count, dtype: int64\n"
     ]
    }
   ],
   "source": [
    "print(dfErro['classe'].value_counts())"
   ]
  },
  {
   "cell_type": "code",
   "execution_count": 4,
   "metadata": {},
   "outputs": [
    {
     "name": "stdout",
     "output_type": "stream",
     "text": [
      "Há valores faltantes? False\n"
     ]
    }
   ],
   "source": [
    "has_missing = dfErro.isnull().values.any()\n",
    "print(f\"Há valores faltantes? {has_missing}\")"
   ]
  },
  {
   "cell_type": "code",
   "execution_count": 10,
   "metadata": {},
   "outputs": [
    {
     "data": {
      "text/html": [
       "<div>\n",
       "<style scoped>\n",
       "    .dataframe tbody tr th:only-of-type {\n",
       "        vertical-align: middle;\n",
       "    }\n",
       "\n",
       "    .dataframe tbody tr th {\n",
       "        vertical-align: top;\n",
       "    }\n",
       "\n",
       "    .dataframe thead th {\n",
       "        text-align: right;\n",
       "    }\n",
       "</style>\n",
       "<table border=\"1\" class=\"dataframe\">\n",
       "  <thead>\n",
       "    <tr style=\"text-align: right;\">\n",
       "      <th></th>\n",
       "      <th>Coluna</th>\n",
       "      <th>Dados Faltantes</th>\n",
       "    </tr>\n",
       "  </thead>\n",
       "  <tbody>\n",
       "    <tr>\n",
       "      <th>0</th>\n",
       "      <td>0</td>\n",
       "      <td>0</td>\n",
       "    </tr>\n",
       "    <tr>\n",
       "      <th>1</th>\n",
       "      <td>1</td>\n",
       "      <td>0</td>\n",
       "    </tr>\n",
       "    <tr>\n",
       "      <th>2</th>\n",
       "      <td>2</td>\n",
       "      <td>0</td>\n",
       "    </tr>\n",
       "    <tr>\n",
       "      <th>3</th>\n",
       "      <td>3</td>\n",
       "      <td>0</td>\n",
       "    </tr>\n",
       "    <tr>\n",
       "      <th>4</th>\n",
       "      <td>4</td>\n",
       "      <td>0</td>\n",
       "    </tr>\n",
       "    <tr>\n",
       "      <th>...</th>\n",
       "      <td>...</td>\n",
       "      <td>...</td>\n",
       "    </tr>\n",
       "    <tr>\n",
       "      <th>1206</th>\n",
       "      <td>1206</td>\n",
       "      <td>0</td>\n",
       "    </tr>\n",
       "    <tr>\n",
       "      <th>1207</th>\n",
       "      <td>1207</td>\n",
       "      <td>0</td>\n",
       "    </tr>\n",
       "    <tr>\n",
       "      <th>1208</th>\n",
       "      <td>1208</td>\n",
       "      <td>0</td>\n",
       "    </tr>\n",
       "    <tr>\n",
       "      <th>1209</th>\n",
       "      <td>1209</td>\n",
       "      <td>0</td>\n",
       "    </tr>\n",
       "    <tr>\n",
       "      <th>1210</th>\n",
       "      <td>classe</td>\n",
       "      <td>0</td>\n",
       "    </tr>\n",
       "  </tbody>\n",
       "</table>\n",
       "<p>1211 rows × 2 columns</p>\n",
       "</div>"
      ],
      "text/plain": [
       "      Coluna  Dados Faltantes\n",
       "0          0                0\n",
       "1          1                0\n",
       "2          2                0\n",
       "3          3                0\n",
       "4          4                0\n",
       "...      ...              ...\n",
       "1206    1206                0\n",
       "1207    1207                0\n",
       "1208    1208                0\n",
       "1209    1209                0\n",
       "1210  classe                0\n",
       "\n",
       "[1211 rows x 2 columns]"
      ]
     },
     "execution_count": 10,
     "metadata": {},
     "output_type": "execute_result"
    }
   ],
   "source": [
    "missing_data = dfErro.isna().sum()\n",
    "missing_data_table = pd.DataFrame({'Coluna': missing_data.index, 'Dados Faltantes': missing_data.values})\n",
    "missing_data_table"
   ]
  },
  {
   "cell_type": "code",
   "execution_count": null,
   "metadata": {},
   "outputs": [],
   "source": [
    "#Histograma\n",
    "num_columns = len(dfErro.columns)\n",
    "\n",
    "# Definir o número de colunas no grid\n",
    "ncols = 6\n",
    "nrows = (num_columns // ncols) + (num_columns % ncols > 0)  # Calcula o número de linhas necessárias\n",
    "\n",
    "# Cria a figura com o grid de subgráficos\n",
    "fig, axes = plt.subplots(nrows=nrows, ncols=ncols, figsize=(14, 3 * nrows))\n",
    "\n",
    "# Flatten a matriz de eixos para iterar facilmente sobre eles\n",
    "axes = axes.flatten()\n",
    "\n",
    "# Plota os histogramas\n",
    "for i, column in enumerate(dfErro.columns):\n",
    "    axes[i].hist(dfErro[column], bins=30)\n",
    "    axes[i].set_title(f'Histograma - {column}')\n",
    "\n",
    "# Remove os subgráficos extras (caso o número de colunas seja menor que ncols*nrows)\n",
    "for j in range(i + 1, len(axes)):\n",
    "    axes[j].axis('off')\n",
    "\n",
    "plt.tight_layout()\n",
    "plt.show()\n"
   ]
  },
  {
   "cell_type": "code",
   "execution_count": 12,
   "metadata": {},
   "outputs": [],
   "source": [
    "# Separar X e y\n",
    "X = dfErro.iloc[:, :-1]  # Todas as colunas exceto a última (classe)\n",
    "y = dfErro.iloc[:, -1]   # Última coluna (classe)"
   ]
  },
  {
   "cell_type": "code",
   "execution_count": null,
   "metadata": {},
   "outputs": [],
   "source": [
    "from sklearn.ensemble import RandomForestClassifier\n",
    "from sklearn.model_selection import train_test_split\n",
    "\n",
    "X_train, X_test, y_train, y_test = train_test_split(X, y, test_size=0.2, random_state=42)\n",
    "\n",
    "# Criar e treinar o modelo Random Forest\n",
    "clf = RandomForestClassifier(n_estimators=100, random_state=42)\n",
    "clf.fit(X_train, y_train)\n",
    "\n",
    "# Obter a importância das features\n",
    "feature_importances = pd.Series(clf.feature_importances_, index=X.columns)\n",
    "\n",
    "# Selecionar as 10 features mais importantes\n",
    "top_features = feature_importances.nlargest(5).index\n",
    "\n",
    "print(\"Top 5 Features Mais Importantes pelo MDI:\")\n",
    "print(top_features)"
   ]
  },
  {
   "cell_type": "code",
   "execution_count": null,
   "metadata": {},
   "outputs": [],
   "source": [
    "#Lineplot\n",
    "\n",
    "plt.figure(figsize=(12, 6))\n",
    "\n",
    "for feature in top_features:\n",
    "    sns.lineplot(data=dfErro[feature], label=feature)\n",
    "\n",
    "plt.title(\"Lineplot de algumas features\")\n",
    "plt.xlabel(\"Índice da amostra\")\n",
    "plt.ylabel(\"Valor normalizado\")\n",
    "plt.legend()\n",
    "plt.show()\n"
   ]
  },
  {
   "cell_type": "code",
   "execution_count": null,
   "metadata": {},
   "outputs": [],
   "source": [
    "sns.pairplot(dfErro, vars=top_features, hue=\"classe\", plot_kws={'alpha': 0.5})\n",
    "plt.show()"
   ]
  },
  {
   "cell_type": "code",
   "execution_count": null,
   "metadata": {},
   "outputs": [],
   "source": [
    "# Calcula a correlação de Pearson entre as features selecionadas\n",
    "correlation_matrix_top_features = dfErro[top_features].corr()\n",
    "\n",
    "# Exibe a matriz de correlação das 5 features mais importantes\n",
    "plt.figure(figsize=(12, 8))\n",
    "sns.heatmap(correlation_matrix_top_features, annot=True, cmap=\"coolwarm\", fmt=\".2f\", linewidths=0.5)\n",
    "plt.title(\"Matriz de Correlação de Pearson das 5 Features Mais Importantes\")\n",
    "plt.show()\n"
   ]
  },
  {
   "cell_type": "code",
   "execution_count": 17,
   "metadata": {},
   "outputs": [
    {
     "name": "stdout",
     "output_type": "stream",
     "text": [
      "Os dados estão normalizados com MinMaxScaler? True\n"
     ]
    }
   ],
   "source": [
    "# Verifica os valores mínimo e máximo de cada coluna (exceto a classe)\n",
    "min_values = dfErro.iloc[:, :-1].min()\n",
    "max_values = dfErro.iloc[:, :-1].max()\n",
    "\n",
    "# Exibir se os valores estão entre 0 e 1\n",
    "is_minmax = (min_values >= 0).all() and (max_values <= 1).all()\n",
    "print(f\"Os dados estão normalizados com MinMaxScaler? {is_minmax}\")\n"
   ]
  },
  {
   "cell_type": "code",
   "execution_count": 18,
   "metadata": {},
   "outputs": [
    {
     "name": "stdout",
     "output_type": "stream",
     "text": [
      "Os dados estão padronizados com StandardScaler? False\n"
     ]
    }
   ],
   "source": [
    "# Calcula a média e o desvio padrão de cada coluna (exceto a classe)\n",
    "means = dfErro.iloc[:, :-1].mean()\n",
    "stds = dfErro.iloc[:, :-1].std()\n",
    "\n",
    "# Verifica se a média está próxima de 0 e o desvio padrão próximo de 1\n",
    "is_standard = (means.abs() < 1e-6).all() and ((stds - 1).abs() < 1e-6).all()\n",
    "print(f\"Os dados estão padronizados com StandardScaler? {is_standard}\")\n"
   ]
  },
  {
   "cell_type": "code",
   "execution_count": 20,
   "metadata": {},
   "outputs": [],
   "source": [
    "from sklearn.preprocessing import StandardScaler\n",
    "\n",
    "scaler = StandardScaler()\n",
    "dfErro.iloc[:, :-1] = scaler.fit_transform(dfErro.iloc[:, :-1])"
   ]
  },
  {
   "cell_type": "code",
   "execution_count": 19,
   "metadata": {},
   "outputs": [],
   "source": [
    "X = dfErro.drop(['classe'], axis = 1)\n",
    "X = X.values\n",
    "y = dfErro['classe']"
   ]
  },
  {
   "cell_type": "code",
   "execution_count": null,
   "metadata": {},
   "outputs": [],
   "source": [
    "from sklearn.model_selection import KFold\n",
    "\n",
    "kfold = KFold(n_splits = 2, shuffle=True, random_state=42)\n",
    "\n",
    "param_grid_KNN = {'n_vizinhos': [3, 5, 7, 9, 11], 'metrica': ['euclidean', 'manhattan', 'minkowski', 'cosine']}\n",
    "test_scores_KNN = []"
   ]
  },
  {
   "cell_type": "code",
   "execution_count": null,
   "metadata": {},
   "outputs": [],
   "source": [
    "from sklearn.svm import SVC\n",
    "\n",
    "param_grid_SVM = {\n",
    "    'C': [0.1, 1, 10, 100],\n",
    "    'kernel': ['linear', 'rbf']\n",
    "}\n",
    "\n",
    "test_scores_SVM = []"
   ]
  },
  {
   "cell_type": "code",
   "execution_count": null,
   "metadata": {},
   "outputs": [],
   "source": [
    "from sklearn.metrics import accuracy_score\n",
    "from sklearn.model_selection import ParameterGrid\n",
    "from sklearn.neighbors import KNeighborsClassifier\n",
    "\n",
    "\n",
    "for train_index, test_index in kfold.split(X):\n",
    "    X_train, X_test = X[train_index], X[test_index]\n",
    "    y_train, y_test = y[train_index], y[test_index]\n",
    "    \n",
    "    X_trainDivided, X_val, y_trainDivided, y_val = train_test_split(X_train, y_train, test_size=0.2)\n",
    "    \n",
    "    \n",
    "    # ---------- KNN ----------\n",
    "    accs_val_knn = []\n",
    "    par_knn = []\n",
    "    for params in ParameterGrid(param_grid_KNN):\n",
    "        knn = KNeighborsClassifier(n_neighbors=params['n_vizinhos'], metric=params['metrica'])\n",
    "        knn.fit(X_trainDivided, y_trainDivided)\n",
    "        y_pred = knn.predict(X_val)\n",
    "        acc = accuracy_score(y_val, y_pred)\n",
    "        accs_val_knn.append(acc)\n",
    "        par_knn.append(params)\n",
    "        print(params, acc)\n",
    "    print(f\"Melhor para o fold: {par_knn[accs_val_knn.index(max(accs_val_knn))]} : {accs_val_knn[accs_val_knn.index(max(accs_val_knn))]}\")\n",
    "    \n",
    "    knn_best = KNeighborsClassifier(metric = par_knn[accs_val_knn.index(max(accs_val_knn))]['metrica'], n_neighbors = par_knn[accs_val_knn.index(max(accs_val_knn))]['n_vizinhos'])\n",
    "    knn_best.fit(X_train, y_train)\n",
    "    y_pred = knn_best.predict(X_test)\n",
    "    acc = accuracy_score(y_test, y_pred)\n",
    "    test_scores_KNN.append(acc)\n",
    "    \n",
    "    \n",
    "    # ---------- SVM ----------\n",
    "    accs_val_svm = []\n",
    "    par_svm = []\n",
    "    for params in ParameterGrid(param_grid_SVM):\n",
    "        svm = SVC(C=params['C'], kernel=params['kernel'])\n",
    "        svm.fit(X_trainDivided, y_trainDivided)\n",
    "        y_pred = svm.predict(X_val)\n",
    "        acc = accuracy_score(y_val, y_pred)\n",
    "        accs_val_svm.append(acc)\n",
    "        par_svm.append(params)\n",
    "    \n",
    "    svm_best = SVC(C = par_svm[accs_val_svm.index(max(accs_val_svm))]['C'], kernel = par_svm[accs_val_svm.index(max(accs_val_svm))]['kernel'])\n",
    "    svm_best.fit(X_train, y_train)\n",
    "    \n",
    "    y_pred = svm_best.predict(X_test)\n",
    "    acc = accuracy_score(y_test, y_pred)\n",
    "    test_scores_SVM.append(acc)\n",
    "    \n",
    "print(f\"Acurácia média nos conjuntos de testes com o KNN: {sum(test_scores_KNN) / len(test_scores_KNN):.4f}\")\n",
    "    \n",
    "    "
   ]
  },
  {
   "cell_type": "code",
   "execution_count": null,
   "metadata": {},
   "outputs": [],
   "source": []
  }
 ],
 "metadata": {
  "kernelspec": {
   "display_name": "venv",
   "language": "python",
   "name": "python3"
  },
  "language_info": {
   "codemirror_mode": {
    "name": "ipython",
    "version": 3
   },
   "file_extension": ".py",
   "mimetype": "text/x-python",
   "name": "python",
   "nbconvert_exporter": "python",
   "pygments_lexer": "ipython3",
   "version": "3.13.1"
  }
 },
 "nbformat": 4,
 "nbformat_minor": 2
}
